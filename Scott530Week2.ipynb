{
 "cells": [
  {
   "cell_type": "code",
   "execution_count": 2,
   "id": "0b1e8a26-f8eb-4824-b14b-ff83e9a9700f",
   "metadata": {},
   "outputs": [
    {
     "name": "stdout",
     "output_type": "stream",
     "text": [
      "Hello World! My name is Matt Scott!\n"
     ]
    }
   ],
   "source": [
    "print(\"Hello World! My name is Matt Scott!\")\n",
    "      \n"
   ]
  },
  {
   "cell_type": "code",
   "execution_count": 3,
   "id": "3710d032-71cf-4f0a-a2e5-8f6f94d581cd",
   "metadata": {},
   "outputs": [
    {
     "data": {
      "text/plain": [
       "14"
      ]
     },
     "execution_count": 3,
     "metadata": {},
     "output_type": "execute_result"
    }
   ],
   "source": [
    "6 + 8"
   ]
  },
  {
   "cell_type": "code",
   "execution_count": 4,
   "id": "8b0e4dc5-0de8-437c-80e6-3906ea49c091",
   "metadata": {},
   "outputs": [
    {
     "data": {
      "text/plain": [
       "12"
      ]
     },
     "execution_count": 4,
     "metadata": {},
     "output_type": "execute_result"
    }
   ],
   "source": [
    "23 - 11"
   ]
  },
  {
   "cell_type": "code",
   "execution_count": 5,
   "id": "53d97440-289a-4746-9c8d-07396e844587",
   "metadata": {},
   "outputs": [
    {
     "data": {
      "text/plain": [
       "135"
      ]
     },
     "execution_count": 5,
     "metadata": {},
     "output_type": "execute_result"
    }
   ],
   "source": [
    "15 * 9"
   ]
  },
  {
   "cell_type": "code",
   "execution_count": 6,
   "id": "070a18df-9109-413f-abb5-bedbb7525b0e",
   "metadata": {},
   "outputs": [
    {
     "data": {
      "text/plain": [
       "4.821428571428571"
      ]
     },
     "execution_count": 6,
     "metadata": {},
     "output_type": "execute_result"
    }
   ],
   "source": [
    "135 / 28"
   ]
  },
  {
   "cell_type": "code",
   "execution_count": 7,
   "id": "630a6842-5b29-4c4d-acd8-cffed8773a4a",
   "metadata": {},
   "outputs": [
    {
     "name": "stdout",
     "output_type": "stream",
     "text": [
      "This is an example of concatenation.\n"
     ]
    }
   ],
   "source": [
    "a = \"This is an example\"\n",
    "b = \" of concatenation.\"\n",
    "c = a + b\n",
    "print(c)"
   ]
  },
  {
   "cell_type": "code",
   "execution_count": 31,
   "id": "25d1e8e2-c3a4-4258-86eb-e797d64fd0f9",
   "metadata": {},
   "outputs": [
    {
     "name": "stdout",
     "output_type": "stream",
     "text": [
      "['DSC500', 'DSC510', 'DSC520', 'DSC530']\n",
      "['DSC500', 'DSC510', 'DSC520', 'DSC530', 'DSC540']\n"
     ]
    }
   ],
   "source": [
    "classes = ['DSC500', 'DSC510', 'DSC520', 'DSC530']\n",
    "print(classes)\n",
    "classes.append('DSC540')\n",
    "print(classes)"
   ]
  },
  {
   "cell_type": "code",
   "execution_count": 33,
   "id": "9131053b-b4eb-4800-8fb3-2ff56448a324",
   "metadata": {},
   "outputs": [
    {
     "name": "stdout",
     "output_type": "stream",
     "text": [
      "('Milk', 'Eggs', 'Butter', 'Bacon', 'Cereal', 'Orange Juice')\n"
     ]
    },
    {
     "ename": "AttributeError",
     "evalue": "'tuple' object has no attribute 'append'",
     "output_type": "error",
     "traceback": [
      "\u001b[1;31m---------------------------------------------------------------------------\u001b[0m",
      "\u001b[1;31mAttributeError\u001b[0m                            Traceback (most recent call last)",
      "\u001b[1;32m~\\AppData\\Local\\Temp\\ipykernel_72696\\2294322928.py\u001b[0m in \u001b[0;36m<module>\u001b[1;34m\u001b[0m\n\u001b[0;32m      1\u001b[0m \u001b[0mshoplist\u001b[0m \u001b[1;33m=\u001b[0m \u001b[1;33m(\u001b[0m\u001b[1;34m'Milk'\u001b[0m\u001b[1;33m,\u001b[0m \u001b[1;34m'Eggs'\u001b[0m\u001b[1;33m,\u001b[0m \u001b[1;34m'Butter'\u001b[0m\u001b[1;33m,\u001b[0m \u001b[1;34m'Bacon'\u001b[0m\u001b[1;33m,\u001b[0m \u001b[1;34m'Cereal'\u001b[0m\u001b[1;33m,\u001b[0m \u001b[1;34m'Orange Juice'\u001b[0m\u001b[1;33m)\u001b[0m\u001b[1;33m\u001b[0m\u001b[1;33m\u001b[0m\u001b[0m\n\u001b[0;32m      2\u001b[0m \u001b[0mprint\u001b[0m\u001b[1;33m(\u001b[0m\u001b[0mshoplist\u001b[0m\u001b[1;33m)\u001b[0m\u001b[1;33m\u001b[0m\u001b[1;33m\u001b[0m\u001b[0m\n\u001b[1;32m----> 3\u001b[1;33m \u001b[0mshoplist\u001b[0m\u001b[1;33m.\u001b[0m\u001b[0mappend\u001b[0m\u001b[1;33m(\u001b[0m\u001b[1;34m'Bread'\u001b[0m\u001b[1;33m)\u001b[0m\u001b[1;33m\u001b[0m\u001b[1;33m\u001b[0m\u001b[0m\n\u001b[0m",
      "\u001b[1;31mAttributeError\u001b[0m: 'tuple' object has no attribute 'append'"
     ]
    }
   ],
   "source": [
    "shoplist = ('Milk', 'Eggs', 'Butter', 'Bacon', 'Cereal', 'Orange Juice')\n",
    "print(shoplist)\n",
    "shoplist.append('Bread')"
   ]
  },
  {
   "cell_type": "code",
   "execution_count": null,
   "id": "f876c989-0b88-4bc2-9f1a-3cd8b9d2b8d3",
   "metadata": {},
   "outputs": [],
   "source": []
  }
 ],
 "metadata": {
  "kernelspec": {
   "display_name": "Python 3 (ipykernel)",
   "language": "python",
   "name": "python3"
  },
  "language_info": {
   "codemirror_mode": {
    "name": "ipython",
    "version": 3
   },
   "file_extension": ".py",
   "mimetype": "text/x-python",
   "name": "python",
   "nbconvert_exporter": "python",
   "pygments_lexer": "ipython3",
   "version": "3.9.13"
  }
 },
 "nbformat": 4,
 "nbformat_minor": 5
}
